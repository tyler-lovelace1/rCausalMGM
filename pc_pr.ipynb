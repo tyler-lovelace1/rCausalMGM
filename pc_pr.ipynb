{
 "cells": [
  {
   "cell_type": "code",
   "execution_count": 1,
   "metadata": {},
   "outputs": [],
   "source": [
    "import numpy as np"
   ]
  },
  {
   "cell_type": "code",
   "execution_count": 2,
   "metadata": {},
   "outputs": [],
   "source": [
    "def build_graph(fname):\n",
    "    graph = dict()\n",
    "    with open(fname) as infile:\n",
    "        count = 0\n",
    "        for line in infile:\n",
    "            line = line.strip()\n",
    "            if (count == 1):\n",
    "                # nodes = line.split(',')\n",
    "                nodes = line.split(';')\n",
    "                for n in nodes:\n",
    "                    graph.update({ n : [] })\n",
    "            if (count > 3):\n",
    "                if (line == ''):\n",
    "                    break\n",
    "                edge = line.split(' ')\n",
    "                edge = edge[1:]\n",
    "                # print(tuple(edge))\n",
    "                if (edge[1] == '-->'):\n",
    "                    graph[edge[0]].append(edge[2])\n",
    "                elif (edge[1] == '<--'):\n",
    "                    graph[edge[2]].append(edge[0])\n",
    "\n",
    "            count += 1\n",
    "\n",
    "    return graph\n",
    "\n",
    "def ancestor(n1, n2, g):\n",
    "    descendents = [n1]\n",
    "\n",
    "    old = 0\n",
    "    new = 1 \n",
    "    while (old != new):\n",
    "        for i in range(old, new):\n",
    "            updates = g[descendents[i]]\n",
    "            for n in g[descendents[i]]:\n",
    "                if n in descendents:\n",
    "                    updates.remove(n)\n",
    "            descendents.extend(updates)\n",
    "\n",
    "        # print(descendents)\n",
    "        old = new\n",
    "        new = len(descendents)\n",
    "\n",
    "    return n2 in descendents"
   ]
  },
  {
   "cell_type": "code",
   "execution_count": 3,
   "metadata": {},
   "outputs": [],
   "source": [
    "def load_edges(fname):\n",
    "    rev_map = dict(\n",
    "        {\n",
    "            '-->' : '<--',\n",
    "            '<--' : '-->',\n",
    "            '<->' : '<->',\n",
    "            'o->' : '<-o',\n",
    "            '<-o' : 'o->',\n",
    "            'o-o' : 'o-o',\n",
    "            '---' : '---'\n",
    "        }\n",
    "    )\n",
    "\n",
    "    print('loading edges from ' + fname)\n",
    "\n",
    "    eef = open(fname, 'r')\n",
    "\n",
    "    eeflines = eef.readlines()\n",
    "\n",
    "    edges = list()\n",
    "\n",
    "    linum = 0\n",
    "    for line in eeflines:\n",
    "        if (linum > 3):\n",
    "            if line.strip()=='':\n",
    "                break\n",
    "            if line.strip()=='Ambiguous triples (i.e. list of triples for which there is ambiguous data about whether they are colliders or not):':\n",
    "                break\n",
    "            # print(line)\n",
    "            temp = line.strip().split(' ')\n",
    "            edge = [temp[1], temp[2], temp[3]]\n",
    "            # edge.sort()\n",
    "            # print(tuple(edge))\n",
    "            if (edge[0] < edge[2]):\n",
    "                edges.append(tuple(edge))\n",
    "            else:\n",
    "                edge.reverse()\n",
    "                edge[1] = rev_map[edge[1]]\n",
    "                edges.append(tuple(edge))\n",
    "                \n",
    "        linum+=1\n",
    "        \n",
    "    edges.sort()\n",
    "\n",
    "    return edges"
   ]
  },
  {
   "cell_type": "code",
   "execution_count": 4,
   "metadata": {},
   "outputs": [],
   "source": [
    "def calc_markov_equiv_arrow_pr(exp, true):\n",
    "    tp = np.zeros(7)\n",
    "    fp = np.zeros(7)\n",
    "    fn = np.zeros(7)\n",
    "    tn = np.zeros(7)\n",
    "    \n",
    "    for e1 in exp:\n",
    "        # print(e1)\n",
    "        for e2 in true:\n",
    "            # print(e2)\n",
    "            if (e1[0] == e2[0]) & (e1[2] == e2[2]):\n",
    "                idx = 0\n",
    "                if ('X' in e1[0]) & ('X' in e1[2]):\n",
    "                    idx = 1\n",
    "                elif 'X' in e1[0]:\n",
    "                    idx = 2\n",
    "                elif 'Y' in e1[0]:\n",
    "                    idx = 3\n",
    "                elif ('Survival' in e1[0]) & ('X' in e1[2]):\n",
    "                    idx = 4\n",
    "                elif ('Survival' in e1[0]) & ('Y' in e1[2]):\n",
    "                    idx = 5\n",
    "                for end in [0, 2]:\n",
    "                    if e1[1][end] == '-':\n",
    "                        if e2[1][end] != '-':\n",
    "                            fn[0] += 1\n",
    "                            fn[idx] += 1\n",
    "                        else:\n",
    "                            tn[0] += 1\n",
    "                            tn[idx] += 1\n",
    "                    elif (e1[1][end] == '>') | (e1[1][end] == '<'):\n",
    "                        if e2[1][end] == '-':\n",
    "                            fp[0] += 1\n",
    "                            fp[idx] += 1\n",
    "                        else:\n",
    "                            tp[0] += 1\n",
    "                            tp[idx] += 1\n",
    "            \n",
    "    tp[6] = tp[4] + tp[5]\n",
    "    fp[6] = fp[4] + fp[5]\n",
    "    fn[6] = fn[4] + fn[5]\n",
    "    tn[6] = tn[4] + tn[5]\n",
    "    \n",
    "#     print(tp)\n",
    "#     print(fp)\n",
    "#     print(fn)\n",
    "#     print(tn)\n",
    "    \n",
    "    return tp/(tp+fp), tp/(tp+fn), (tp*tn - fp*fn) / np.sqrt((tp+fp)*(tp+fn)*(tn+fp)*(tn+fn))"
   ]
  },
  {
   "cell_type": "code",
   "execution_count": 5,
   "metadata": {},
   "outputs": [],
   "source": [
    "def calc_markov_equiv_shd(exp, true, numVars):\n",
    "    missing = np.zeros(7)\n",
    "    added = np.zeros(7)\n",
    "    misoriented = np.zeros(7)\n",
    "    \n",
    "    for e1 in exp:\n",
    "        found = False\n",
    "        for e2 in true:\n",
    "            # print(e2)\n",
    "            if (e1[0] == e2[0]) & (e1[2] == e2[2]):\n",
    "                found = True\n",
    "                idx = 0\n",
    "                if ('X' in e1[0]) & ('X' in e1[2]):\n",
    "                    idx = 1\n",
    "                elif 'X' in e1[0]:\n",
    "                    idx = 2\n",
    "                elif 'Y' in e1[0]:\n",
    "                    idx = 3\n",
    "                elif ('Survival' in e1[0]) & ('X' in e1[2]):\n",
    "                    idx = 4\n",
    "                elif ('Survival' in e1[0]) & ('Y' in e1[2]):\n",
    "                    idx = 5\n",
    "                if (e1[1] != e2[1]):\n",
    "                    misoriented[0] += 1\n",
    "                    misoriented[idx] += 1\n",
    "                break\n",
    "                \n",
    "        if (not found):\n",
    "            added[0] += 1\n",
    "            idx = 0\n",
    "            if ('X' in e1[0]) & ('X' in e1[2]):\n",
    "                idx = 1\n",
    "            elif 'X' in e1[0]:\n",
    "                idx = 2\n",
    "            elif 'Y' in e1[0]:\n",
    "                idx = 3\n",
    "            elif ('Survival' in e1[0]) & ('X' in e1[2]):\n",
    "                idx = 4\n",
    "            elif ('Survival' in e1[0]) & ('Y' in e1[2]):\n",
    "                idx = 5\n",
    "            added[idx] += 1\n",
    "            \n",
    "    for e1 in true:\n",
    "        found = False\n",
    "        for e2 in exp:\n",
    "            # print(e2)\n",
    "            if (e1[0] == e2[0]) & (e1[2] == e2[2]):\n",
    "                found = True\n",
    "                break\n",
    "                \n",
    "        if (not found):\n",
    "            missing[0] += 1\n",
    "            idx = 0\n",
    "            if ('X' in e1[0]) & ('X' in e1[2]):\n",
    "                idx = 1\n",
    "            elif 'X' in e1[0]:\n",
    "                idx = 2\n",
    "            elif 'Y' in e1[0]:\n",
    "                idx = 3\n",
    "            elif ('Survival' in e1[0]) & ('X' in e1[2]):\n",
    "                idx = 4\n",
    "            elif ('Survival' in e1[0]) & ('Y' in e1[2]):\n",
    "                idx = 5\n",
    "            missing[idx] += 1\n",
    "            \n",
    "    missing[6] = missing[4] + missing[5]\n",
    "    added[6] = added[4] + added[5]\n",
    "    misoriented[6] = misoriented[4] + misoriented[5]\n",
    "    \n",
    "    numEdges = np.zeros(7)\n",
    "    totVars = np.sum(numVars)\n",
    "    numEdges[0] = totVars*(totVars-1) / 2\n",
    "    numEdges[1] = numVars[0]*(numVars[0]-1) / 2\n",
    "    numEdges[2] = numVars[0]*numVars[1]\n",
    "    numEdges[3] = numVars[1]*(numVars[1]-1) / 2\n",
    "    numEdges[4] = numVars[0]*numVars[2]\n",
    "    numEdges[5] = numVars[1]*numVars[2]\n",
    "    numEdges[6] = (numVars[0]+numVars[1])*numVars[2]\n",
    "#     print(missing)\n",
    "#     print(added)\n",
    "#     print(misoriented)\n",
    "    \n",
    "    return (missing + added + misoriented) / numEdges"
   ]
  },
  {
   "cell_type": "code",
   "execution_count": 6,
   "metadata": {},
   "outputs": [],
   "source": [
    "def calc_pag_arrow_pr(exp, pag, true): # true should be a graph from build_graph instead of a list of edges from load_edges so ancestry can be checked\n",
    "    tp = np.zeros(7)\n",
    "    fp = np.zeros(7)\n",
    "    fn = np.zeros(7)\n",
    "\n",
    "    for e1 in exp:\n",
    "        for e2 in pag:\n",
    "            if (e1[0] == e2[0]) & (e1[2] == e2[2]):\n",
    "                for end in [0, 2]:\n",
    "                    if e2[1][end] == 'o':\n",
    "                        if e1[1][end] == 'o':\n",
    "                            tp[0] += 1\n",
    "                            if ('X' in e1[0]) & ('X' in e1[2]):\n",
    "                                tp[1] += 1\n",
    "                            elif 'X' in e1[0]:\n",
    "                                tp[2] += 1\n",
    "                            elif 'Y' in e1[0]:\n",
    "                                tp[3] +=1\n",
    "                            elif ('Survival' in e1[0]) & ('X' in e1[2]):\n",
    "                                tp[4] += 1\n",
    "                            elif ('Survival' in e1[0]) & ('Y' in e1[2]):\n",
    "                                tp[5] += 1\n",
    "                        elif (e1[1][end] == '>') | (e1[1][end] == '<'):\n",
    "                            if not ancestor(e1[end], e1[(end+2)%4], true):\n",
    "                                tp[0] += 1\n",
    "                                if ('X' in e1[0]) & ('X' in e1[2]):\n",
    "                                    tp[1] += 1\n",
    "                                elif 'X' in e1[0]:\n",
    "                                    tp[2] += 1\n",
    "                                elif 'Y' in e1[0]:\n",
    "                                    tp[3] +=1\n",
    "                                elif ('Survival' in e1[0]) & ('X' in e1[2]):\n",
    "                                    tp[4] += 1\n",
    "                                elif ('Survival' in e1[0]) & ('Y' in e1[2]):\n",
    "                                    tp[5] += 1\n",
    "                            else:\n",
    "                                fn[0] += 1\n",
    "                                if ('X' in e1[0]) & ('X' in e1[2]):\n",
    "                                    fn[1] += 1\n",
    "                                elif 'X' in e1[0]:\n",
    "                                    fn[2] += 1\n",
    "                                elif 'Y' in e1[0]:\n",
    "                                    fn[3] +=1\n",
    "                                elif ('Survival' in e1[0]) & ('X' in e1[2]):\n",
    "                                    fn[4] += 1\n",
    "                                elif ('Survival' in e1[0]) & ('Y' in e1[2]):\n",
    "                                    fn[5] += 1\n",
    "                        elif (e1[1][end] == '-'):\n",
    "                            if ancestor(e1[end], e1[(end+2)%4], true):\n",
    "                                tp[0] += 1\n",
    "                                if ('X' in e1[0]) & ('X' in e1[2]):\n",
    "                                    tp[1] += 1\n",
    "                                elif 'X' in e1[0]:\n",
    "                                    tp[2] += 1\n",
    "                                elif 'Y' in e1[0]:\n",
    "                                    tp[3] +=1\n",
    "                                elif ('Survival' in e1[0]) & ('X' in e1[2]):\n",
    "                                    tp[4] += 1\n",
    "                                elif ('Survival' in e1[0]) & ('Y' in e1[2]):\n",
    "                                    tp[5] += 1\n",
    "                            else:\n",
    "                                fp[0] += 1\n",
    "                                if ('X' in e1[0]) & ('X' in e1[2]):\n",
    "                                    fp[1] += 1\n",
    "                                elif 'X' in e1[0]:\n",
    "                                    fp[2] += 1\n",
    "                                elif 'Y' in e1[0]:\n",
    "                                    fp[3] +=1\n",
    "                                elif ('Survival' in e1[0]) & ('X' in e1[2]):\n",
    "                                    fp[4] += 1\n",
    "                                elif ('Survival' in e1[0]) & ('Y' in e1[2]):\n",
    "                                    fp[5] += 1\n",
    "                    elif (e2[1][end] == '>') | (e2[1][end] == '<'):\n",
    "                        if (e1[1][end] == 'o'):\n",
    "                            fp[0] += 0.5\n",
    "                            if ('X' in e1[0]) & ('X' in e1[2]):\n",
    "                                fp[1] += 0.5\n",
    "                            elif 'X' in e1[0]:\n",
    "                                fp[2] += 0.5\n",
    "                            elif 'Y' in e1[0]:\n",
    "                                fp[3] +=0.5\n",
    "                            elif ('Survival' in e1[0]) & ('X' in e1[2]):\n",
    "                                fp[4] += 0.5\n",
    "                            elif ('Survival' in e1[0]) & ('Y' in e1[2]):\n",
    "                                fp[5] += 0.5\n",
    "                        elif (e1[1][end] == '>') | (e1[1][end] == '<'):\n",
    "                            tp[0] += 1\n",
    "                            if ('X' in e1[0]) & ('X' in e1[2]):\n",
    "                                tp[1] += 1\n",
    "                            elif 'X' in e1[0]:\n",
    "                                tp[2] += 1\n",
    "                            elif 'Y' in e1[0]:\n",
    "                                tp[3] +=1\n",
    "                            elif ('Survival' in e1[0]) & ('X' in e1[2]):\n",
    "                                tp[4] += 1\n",
    "                            elif ('Survival' in e1[0]) & ('Y' in e1[2]):\n",
    "                                tp[5] += 1\n",
    "                        elif (e1[1][end] == '-'):\n",
    "                            fp[0] += 1\n",
    "                            if ('X' in e1[0]) & ('X' in e1[2]):\n",
    "                                fp[1] += 1\n",
    "                            elif 'X' in e1[0]:\n",
    "                                fp[2] += 1\n",
    "                            elif 'Y' in e1[0]:\n",
    "                                fp[3] +=1\n",
    "                            elif ('Survival' in e1[0]) & ('X' in e1[2]):\n",
    "                                fp[4] += 1\n",
    "                            elif ('Survival' in e1[0]) & ('Y' in e1[2]):\n",
    "                                fp[5] += 1\n",
    "                    elif (e2[1][end] == '-'):\n",
    "                        if (e1[1][end] == 'o'):\n",
    "                            fn[0] += 0.5\n",
    "                            if ('X' in e1[0]) & ('X' in e1[2]):\n",
    "                                fn[1] += 0.5\n",
    "                            elif 'X' in e1[0]:\n",
    "                                fn[2] += 0.5\n",
    "                            elif 'Y' in e1[0]:\n",
    "                                fn[3] += 0.5\n",
    "                            elif ('Survival' in e1[0]) & ('X' in e1[2]):\n",
    "                                fn[4] += 0.5\n",
    "                            elif ('Survival' in e1[0]) & ('Y' in e1[2]):\n",
    "                                fn[5] += 0.5\n",
    "                        elif (e1[1][end] == '>') | (e1[1][end] == '<'):\n",
    "                            tp[0] += 1\n",
    "                            if ('X' in e1[0]) & ('X' in e1[2]):\n",
    "                                tp[1] += 1\n",
    "                            elif 'X' in e1[0]:\n",
    "                                tp[2] += 1\n",
    "                            elif 'Y' in e1[0]:\n",
    "                                tp[3] +=1\n",
    "                            elif ('Survival' in e1[0]) & ('X' in e1[2]):\n",
    "                                tp[4] += 1\n",
    "                            elif ('Survival' in e1[0]) & ('Y' in e1[2]):\n",
    "                                tp[5] += 1\n",
    "                        elif (e1[1][end] == '-'):\n",
    "                            fn[0] += 1\n",
    "                            if ('X' in e1[0]) & ('X' in e1[2]):\n",
    "                                fn[1] += 1\n",
    "                            elif 'X' in e1[0]:\n",
    "                                fn[2] += 1\n",
    "                            elif 'Y' in e1[0]:\n",
    "                                fn[3] +=1\n",
    "                            elif ('Survival' in e1[0]) & ('X' in e1[2]):\n",
    "                                fn[4] += 1\n",
    "                            elif ('Survival' in e1[0]) & ('Y' in e1[2]):\n",
    "                                fn[5] += 1\n",
    "    tp[6] = tp[4] + tp[5]\n",
    "    fp[6] = fp[4] + fp[5]\n",
    "    fn[6] = fn[4] + fn[5]\n",
    "    \n",
    "    return tp/(tp+fp), tp/(tp+fn)"
   ]
  },
  {
   "cell_type": "code",
   "execution_count": 7,
   "metadata": {},
   "outputs": [],
   "source": [
    "def calc_adj_pr(exp, true, numVars):\n",
    "    tp = np.zeros(7)\n",
    "    fp = np.zeros(7)\n",
    "    fn = np.zeros(7)\n",
    "    tn = 0.5 * numVars * (numVars-1) * np.ones(7)\n",
    "    \n",
    "    for e1 in true:\n",
    "        idx = 0\n",
    "        if ('X' in e1[0]) & ('X' in e1[2]):\n",
    "            idx = 1\n",
    "        elif 'X' in e1[0]:\n",
    "            idx = 2\n",
    "        elif 'Y' in e1[0]:\n",
    "            idx = 3\n",
    "        elif ('Survival' in e1[0]) & ('X' in e1[2]):\n",
    "            idx = 4\n",
    "        elif ('Survival' in e1[0]) & ('Y' in e1[2]):\n",
    "            idx = 5\n",
    "        fn[0] += 1\n",
    "        fn[idx] +=1\n",
    "\n",
    "    for e1 in exp:\n",
    "        real = False\n",
    "        for e2 in true:\n",
    "            if (e1[0] == e2[0]) & (e1[2] == e2[2]):\n",
    "                real = True\n",
    "                idx = 0\n",
    "                if ('X' in e1[0]) & ('X' in e1[2]):\n",
    "                    idx = 1\n",
    "                elif 'X' in e1[0]:\n",
    "                    idx = 2\n",
    "                elif 'Y' in e1[0]:\n",
    "                    idx = 3\n",
    "                elif ('Survival' in e1[0]) & ('X' in e1[2]):\n",
    "                    idx = 4\n",
    "                elif ('Survival' in e1[0]) & ('Y' in e1[2]):\n",
    "                    idx = 5\n",
    "                tp[0] += 1\n",
    "                tp[idx] +=1\n",
    "                break\n",
    "        if (not real):\n",
    "            idx = 0\n",
    "            if ('X' in e1[0]) & ('X' in e1[2]):\n",
    "                idx = 1\n",
    "            elif 'X' in e1[0]:\n",
    "                idx = 2\n",
    "            elif 'Y' in e1[0]:\n",
    "                idx = 3\n",
    "            elif ('Survival' in e1[0]) & ('X' in e1[2]):\n",
    "                idx = 4\n",
    "            elif ('Survival' in e1[0]) & ('Y' in e1[2]):\n",
    "                idx = 5\n",
    "            fp[0] += 1\n",
    "            fp[idx] +=1\n",
    "                \n",
    "    fn -= tp\n",
    "    tn -= (tp + fp + fn)\n",
    "            \n",
    "    tp[6] = tp[4] + tp[5]\n",
    "    fp[6] = fp[4] + fp[5]\n",
    "    fn[6] = fn[4] + fn[5]\n",
    "    tn[6] = tn[4] + tn[5]\n",
    "    \n",
    "#     print(tp)\n",
    "#     print(fp)\n",
    "#     print(fn)\n",
    "#     print(tn)\n",
    "    \n",
    "    return tp/(tp+fp), tp/(tp+fn), (tp*tn - fp*fn) / np.sqrt((tp+fp)*(tp+fn)*(tn+fp)*(tn+fn))"
   ]
  },
  {
   "cell_type": "code",
   "execution_count": 13,
   "metadata": {},
   "outputs": [
    {
     "name": "stdout",
     "output_type": "stream",
     "text": [
      "loading edges from graph/pag.n1000.p100.txt\n",
      "loading edges from ../fcimax_test.txt\n"
     ]
    }
   ],
   "source": [
    "true = build_graph('graph/graph.n1000.p100.txt')\n",
    "pag = load_edges('graph/pag.n1000.p100.txt')\n",
    "fcim = load_edges('../fcimax_test.txt')\n",
    "# mgm = load_edges('mgm_local.txt')\n",
    "# cpc = load_edges('cpc_local.txt')\n",
    "# pcm = load_edges('pcm_local.txt')"
   ]
  },
  {
   "cell_type": "code",
   "execution_count": 14,
   "metadata": {},
   "outputs": [
    {
     "name": "stdout",
     "output_type": "stream",
     "text": [
      "adj precision:\t0.984\n",
      "adj recall:\t0.92\n",
      "adj MCC:\t0.949\n"
     ]
    },
    {
     "name": "stderr",
     "output_type": "stream",
     "text": [
      "/home/t-love01/anaconda3/lib/python3.7/site-packages/ipykernel_launcher.py:69: RuntimeWarning: invalid value encountered in true_divide\n"
     ]
    }
   ],
   "source": [
    "prec, rec, mcc = calc_adj_pr(fcim, pag, 100)\n",
    "print('adj precision:\\t' + str(np.round(prec[0],3)))\n",
    "print('adj recall:\\t' + str(np.round(rec[0],3)))\n",
    "print('adj MCC:\\t' + str(np.round(mcc[0],3)))"
   ]
  },
  {
   "cell_type": "code",
   "execution_count": 15,
   "metadata": {},
   "outputs": [
    {
     "name": "stdout",
     "output_type": "stream",
     "text": [
      "arrow precision:  0.988\n",
      "arrow recall:     0.803\n"
     ]
    },
    {
     "name": "stderr",
     "output_type": "stream",
     "text": [
      "/home/t-love01/anaconda3/lib/python3.7/site-packages/ipykernel_launcher.py:151: RuntimeWarning: invalid value encountered in true_divide\n"
     ]
    }
   ],
   "source": [
    "prec, rec = calc_pag_arrow_pr(fcim, pag, true)\n",
    "print('arrow precision:  ' + str(np.round(prec[0],3)))\n",
    "print('arrow recall:     ' + str(np.round(rec[0],3)))\n",
    "# print('adj MCC:\\t' + str(np.round(mcc[0],3)))"
   ]
  },
  {
   "cell_type": "code",
   "execution_count": 8,
   "metadata": {},
   "outputs": [
    {
     "name": "stdout",
     "output_type": "stream",
     "text": [
      "loading edges from ../../simulations_200327/true_out/sout_pag_0.txt\n",
      "loading edges from ../fcim_0_0.5_00500_cens_possParFull.txt\n"
     ]
    }
   ],
   "source": [
    "true = build_graph('../../simulations_200327/true_out/sout_pag_0.txt')\n",
    "# true = load_edges('graph/mec.n1000.p100.txt')\n",
    "# pcm = load_edges('../pc50_test_5.txt')\n",
    "pag = load_edges('../../simulations_200327/true_out/sout_pag_0.txt')\n",
    "fcim = load_edges('../fcim_0_0.5_00500_cens_possParFull.txt')\n",
    "# mgm = load_edges('mgm_local.txt')\n",
    "# cpc = load_edges('cpc_local.txt')\n",
    "# pcm = load_edges('pcm_local.txt')"
   ]
  },
  {
   "cell_type": "code",
   "execution_count": 9,
   "metadata": {},
   "outputs": [
    {
     "name": "stdout",
     "output_type": "stream",
     "text": [
      "adj precision:\t[0.912 0.962 0.909 0.864 1.    0.5   0.909]\n",
      "adj recall:\t[0.86  0.962 0.806 0.905 1.    0.333 0.833]\n",
      "adj MCC:\t[0.883 0.961 0.855 0.884 1.    0.408 0.87 ]\n"
     ]
    }
   ],
   "source": [
    "prec, rec, mcc = calc_adj_pr(fcim, pag, 110)\n",
    "print('adj precision:\\t' + str(np.round(prec,3)))\n",
    "print('adj recall:\\t' + str(np.round(rec,3)))\n",
    "print('adj MCC:\\t' + str(np.round(mcc,3)))"
   ]
  },
  {
   "cell_type": "code",
   "execution_count": 10,
   "metadata": {},
   "outputs": [
    {
     "name": "stdout",
     "output_type": "stream",
     "text": [
      "arrow precision:  [0.851 0.821 0.832 0.909 0.917 1.    0.929]\n",
      "arrow recall:     [0.776 0.753 0.802 0.758 0.71  1.    0.743]\n"
     ]
    }
   ],
   "source": [
    "prec, rec = calc_pag_arrow_pr(fcim, pag, true)\n",
    "print('arrow precision:  ' + str(np.round(prec,3)))\n",
    "print('arrow recall:     ' + str(np.round(rec,3)))\n",
    "# print('adj MCC:\\t' + str(np.round(mcc,3)))"
   ]
  },
  {
   "cell_type": "code",
   "execution_count": 11,
   "metadata": {},
   "outputs": [
    {
     "name": "stdout",
     "output_type": "stream",
     "text": [
      "Normalized SHD:  [0.0122 0.0098 0.0168 0.0098 0.006  0.008  0.007 ]\n"
     ]
    }
   ],
   "source": [
    "shd = calc_markov_equiv_shd(fcim, pag, [50, 50, 10])\n",
    "print('Normalized SHD:  ' + str(np.round(shd,4)))"
   ]
  },
  {
   "cell_type": "code",
   "execution_count": null,
   "metadata": {},
   "outputs": [],
   "source": []
  },
  {
   "cell_type": "code",
   "execution_count": 24,
   "metadata": {},
   "outputs": [
    {
     "name": "stdout",
     "output_type": "stream",
     "text": [
      "loading edges from ../../simulations_200327/true_out/sout_pag_0.txt\n",
      "loading edges from ../cfci_0_0.5_00500_cens_possParFull.txt\n"
     ]
    }
   ],
   "source": [
    "true = build_graph('../../simulations_200327/true_out/sout_pag_0.txt')\n",
    "# true = load_edges('graph/mec.n1000.p100.txt')\n",
    "# pcm = load_edges('../pc50_test_5.txt')\n",
    "pag = load_edges('../../simulations_200327/true_out/sout_pag_0.txt')\n",
    "fcim = load_edges('../cfci_0_0.5_00500_cens_possParFull.txt')\n",
    "# mgm = load_edges('mgm_local.txt')\n",
    "# cpc = load_edges('cpc_local.txt')\n",
    "# pcm = load_edges('pcm_local.txt')"
   ]
  },
  {
   "cell_type": "code",
   "execution_count": 25,
   "metadata": {},
   "outputs": [
    {
     "name": "stdout",
     "output_type": "stream",
     "text": [
      "adj precision:\t[0.912 0.962 0.909 0.864 1.    0.5   0.909]\n",
      "adj recall:\t[0.86  0.962 0.806 0.905 1.    0.333 0.833]\n",
      "adj MCC:\t[0.883 0.961 0.855 0.884 1.    0.408 0.87 ]\n"
     ]
    }
   ],
   "source": [
    "prec, rec, mcc = calc_adj_pr(fcim, pag, 110)\n",
    "print('adj precision:\\t' + str(np.round(prec,3)))\n",
    "print('adj recall:\\t' + str(np.round(rec,3)))\n",
    "print('adj MCC:\\t' + str(np.round(mcc,3)))"
   ]
  },
  {
   "cell_type": "code",
   "execution_count": 26,
   "metadata": {},
   "outputs": [
    {
     "name": "stdout",
     "output_type": "stream",
     "text": [
      "arrow precision:  [0.783 0.756 0.738 0.906 0.88  1.    0.889]\n",
      "arrow recall:     [0.735 0.775 0.747 0.696 0.688 0.5   0.667]\n"
     ]
    }
   ],
   "source": [
    "prec, rec = calc_pag_arrow_pr(fcim, pag, true)\n",
    "print('arrow precision:  ' + str(np.round(prec,3)))\n",
    "print('arrow recall:     ' + str(np.round(rec,3)))\n",
    "# print('adj MCC:\\t' + str(np.round(mcc,3)))"
   ]
  },
  {
   "cell_type": "code",
   "execution_count": 27,
   "metadata": {},
   "outputs": [
    {
     "name": "stdout",
     "output_type": "stream",
     "text": [
      "Normalized SHD:  [0.0105 0.0098 0.0152 0.0065 0.004  0.006  0.005 ]\n"
     ]
    }
   ],
   "source": [
    "shd = calc_markov_equiv_shd(fcim, pag, [50, 50, 10])\n",
    "print('Normalized SHD:  ' + str(np.round(shd,4)))"
   ]
  },
  {
   "cell_type": "code",
   "execution_count": null,
   "metadata": {},
   "outputs": [],
   "source": []
  },
  {
   "cell_type": "code",
   "execution_count": 19,
   "metadata": {},
   "outputs": [
    {
     "name": "stdout",
     "output_type": "stream",
     "text": [
      "loading edges from ../../simulations_200327/true_out/sout_0.txt\n",
      "loading edges from ../fuwmgm_steps_0_00500.txt\n"
     ]
    }
   ],
   "source": [
    "# true = build_graph('../fci-max/rCausalMGM/graph/graph.n1000.p100.txt')\n",
    "# true = load_edges('graph/mec.n1000.p100.txt')\n",
    "# pcm = load_edges('../pc50_test_5.txt')\n",
    "true = load_edges('../../simulations_200327/true_out/sout_0.txt')\n",
    "mgm = load_edges('../fuwmgm_steps_0_00500.txt')\n",
    "# mgm = load_edges('mgm_local.txt')\n",
    "# cpc = load_edges('cpc_local.txt')\n",
    "# pcm = load_edges('pcm_local.txt')\n",
    "e2rm = []\n",
    "for e in true:\n",
    "    if ('Survival' in e[0]):\n",
    "        e2rm.append(e)\n",
    "for e in e2rm:\n",
    "    true.remove(e)"
   ]
  },
  {
   "cell_type": "code",
   "execution_count": 20,
   "metadata": {},
   "outputs": [
    {
     "name": "stdout",
     "output_type": "stream",
     "text": [
      "adj precision:\t[0.715 0.532 0.85  0.739   nan   nan   nan]\n",
      "adj recall:\t[0.853 0.962 0.823 0.81    nan   nan   nan]\n",
      "adj MCC:\t[0.776 0.713 0.834 0.773   nan   nan   nan]\n"
     ]
    },
    {
     "name": "stderr",
     "output_type": "stream",
     "text": [
      "/home/t-love01/anaconda3/lib/python3.7/site-packages/ipykernel_launcher.py:69: RuntimeWarning: invalid value encountered in true_divide\n"
     ]
    }
   ],
   "source": [
    "prec, rec, mcc = calc_adj_pr(mgm, true, 100)\n",
    "print('adj precision:\\t' + str(np.round(prec,3)))\n",
    "print('adj recall:\\t' + str(np.round(rec,3)))\n",
    "print('adj MCC:\\t' + str(np.round(mcc,3)))"
   ]
  },
  {
   "cell_type": "code",
   "execution_count": 21,
   "metadata": {},
   "outputs": [
    {
     "data": {
      "text/plain": [
       "[('X0', '-->', 'X18'),\n",
       " ('X0', '<--', 'Y44'),\n",
       " ('X1', '-->', 'X2'),\n",
       " ('X1', '<--', 'X15'),\n",
       " ('X1', '<--', 'X19'),\n",
       " ('X1', '<--', 'X27'),\n",
       " ('X1', '<--', 'Y22'),\n",
       " ('X10', '-->', 'X9'),\n",
       " ('X10', '-->', 'Y5'),\n",
       " ('X10', '<--', 'Y37'),\n",
       " ('X11', '-->', 'X27'),\n",
       " ('X11', '<--', 'X31'),\n",
       " ('X11', '<--', 'X9'),\n",
       " ('X13', '<--', 'X28'),\n",
       " ('X13', '<--', 'X49'),\n",
       " ('X13', '<--', 'Y49'),\n",
       " ('X15', '<--', 'Y1'),\n",
       " ('X15', '<--', 'Y43'),\n",
       " ('X16', '-->', 'Y46'),\n",
       " ('X17', '-->', 'Y17'),\n",
       " ('X18', '<--', 'X22'),\n",
       " ('X18', '<--', 'Y6'),\n",
       " ('X19', '-->', 'X43'),\n",
       " ('X19', '<--', 'Y7'),\n",
       " ('X2', '-->', 'X23'),\n",
       " ('X20', '<--', 'Y18'),\n",
       " ('X22', '-->', 'Y17'),\n",
       " ('X22', '<--', 'Y31'),\n",
       " ('X23', '<--', 'Y0'),\n",
       " ('X24', '<--', 'X25'),\n",
       " ('X26', '-->', 'Y41'),\n",
       " ('X26', '-->', 'Y8'),\n",
       " ('X27', '<--', 'Y33'),\n",
       " ('X28', '-->', 'X36'),\n",
       " ('X29', '-->', 'Y18'),\n",
       " ('X3', '-->', 'Y20'),\n",
       " ('X3', '<--', 'Y6'),\n",
       " ('X30', '-->', 'X9'),\n",
       " ('X30', '-->', 'Y23'),\n",
       " ('X30', '<--', 'Y10'),\n",
       " ('X31', '<--', 'Y7'),\n",
       " ('X32', '-->', 'X41'),\n",
       " ('X33', '-->', 'X49'),\n",
       " ('X33', '-->', 'X5'),\n",
       " ('X33', '<--', 'X38'),\n",
       " ('X33', '<--', 'X46'),\n",
       " ('X35', '-->', 'Y0'),\n",
       " ('X35', '-->', 'Y11'),\n",
       " ('X35', '<--', 'X43'),\n",
       " ('X37', '-->', 'Y43'),\n",
       " ('X37', '<--', 'Y28'),\n",
       " ('X38', '<--', 'X46'),\n",
       " ('X39', '<--', 'Y25'),\n",
       " ('X4', '<--', 'Y0'),\n",
       " ('X41', '-->', 'X7'),\n",
       " ('X41', '-->', 'Y21'),\n",
       " ('X42', '-->', 'Y32'),\n",
       " ('X42', '-->', 'Y40'),\n",
       " ('X42', '<--', 'Y42'),\n",
       " ('X42', '<--', 'Y9'),\n",
       " ('X43', '-->', 'Y17'),\n",
       " ('X43', '-->', 'Y26'),\n",
       " ('X43', '<--', 'Y12'),\n",
       " ('X43', '<--', 'Y15'),\n",
       " ('X44', '-->', 'Y34'),\n",
       " ('X44', '<--', 'Y29'),\n",
       " ('X45', '-->', 'Y47'),\n",
       " ('X45', '<--', 'Y30'),\n",
       " ('X46', '-->', 'Y13'),\n",
       " ('X46', '-->', 'Y30'),\n",
       " ('X46', '-->', 'Y44'),\n",
       " ('X46', '-->', 'Y45'),\n",
       " ('X46', '<--', 'Y9'),\n",
       " ('X47', '-->', 'Y36'),\n",
       " ('X47', '<--', 'X9'),\n",
       " ('X47', '<--', 'Y21'),\n",
       " ('X49', '-->', 'Y18'),\n",
       " ('X49', '<--', 'Y12'),\n",
       " ('X49', '<--', 'Y39'),\n",
       " ('X5', '-->', 'Y19'),\n",
       " ('X5', '-->', 'Y5'),\n",
       " ('X5', '<--', 'Y28'),\n",
       " ('X6', '-->', 'Y6'),\n",
       " ('X6', '<--', 'Y26'),\n",
       " ('X7', '-->', 'Y25'),\n",
       " ('X7', '<--', 'Y9'),\n",
       " ('X8', '-->', 'Y13'),\n",
       " ('X9', '<--', 'Y45'),\n",
       " ('Y1', '<--', 'Y15'),\n",
       " ('Y1', '<--', 'Y7'),\n",
       " ('Y10', '<--', 'Y12'),\n",
       " ('Y11', '<--', 'Y36'),\n",
       " ('Y11', '<--', 'Y39'),\n",
       " ('Y13', '-->', 'Y36'),\n",
       " ('Y13', '<--', 'Y19'),\n",
       " ('Y14', '-->', 'Y16'),\n",
       " ('Y14', '<--', 'Y7'),\n",
       " ('Y16', '-->', 'Y17'),\n",
       " ('Y18', '-->', 'Y49'),\n",
       " ('Y19', '-->', 'Y7'),\n",
       " ('Y2', '<--', 'Y36'),\n",
       " ('Y20', '-->', 'Y25'),\n",
       " ('Y21', '-->', 'Y27'),\n",
       " ('Y23', '-->', 'Y34'),\n",
       " ('Y29', '-->', 'Y5'),\n",
       " ('Y32', '<--', 'Y4'),\n",
       " ('Y37', '<--', 'Y46'),\n",
       " ('Y4', '<--', 'Y46'),\n",
       " ('Y6', '<--', 'Y7')]"
      ]
     },
     "execution_count": 21,
     "metadata": {},
     "output_type": "execute_result"
    }
   ],
   "source": [
    "true"
   ]
  },
  {
   "cell_type": "code",
   "execution_count": 59,
   "metadata": {},
   "outputs": [
    {
     "name": "stdout",
     "output_type": "stream",
     "text": [
      "loading edges from ../../simulations_200327/true_out/sout_0.txt\n",
      "loading edges from ../pcm_0_0.5_00500_cens_possParFull.txt\n"
     ]
    }
   ],
   "source": [
    "# true = build_graph('../fci-max/rCausalMGM/graph/graph.n1000.p100.txt')\n",
    "# true = load_edges('graph/mec.n1000.p100.txt')\n",
    "# pcm = load_edges('../pc50_test_5.txt')\n",
    "true = load_edges('../../simulations_200327/true_out/sout_0.txt')\n",
    "pcm = load_edges('../pcm_0_0.5_00500_cens_possParFull.txt')\n",
    "# mgm = load_edges('mgm_local.txt')\n",
    "# cpc = load_edges('cpc_local.txt')\n",
    "# pcm = load_edges('pcm_local.txt')"
   ]
  },
  {
   "cell_type": "code",
   "execution_count": 60,
   "metadata": {},
   "outputs": [
    {
     "name": "stdout",
     "output_type": "stream",
     "text": [
      "adj precision:\t[0.904 0.962 0.909 0.826 1.    0.5   0.909]\n",
      "adj recall:\t[0.86  0.962 0.806 0.905 1.    0.333 0.833]\n",
      "adj MCC:\t[0.879 0.961 0.855 0.864 1.    0.408 0.87 ]\n"
     ]
    }
   ],
   "source": [
    "prec, rec, mcc = calc_adj_pr(pcm, true, 110)\n",
    "print('adj precision:\\t' + str(np.round(prec,3)))\n",
    "print('adj recall:\\t' + str(np.round(rec,3)))\n",
    "print('adj MCC:\\t' + str(np.round(mcc,3)))"
   ]
  },
  {
   "cell_type": "code",
   "execution_count": 61,
   "metadata": {},
   "outputs": [
    {
     "name": "stdout",
     "output_type": "stream",
     "text": [
      "arrow precision:  [0.764 0.81  0.75  0.692 0.8   1.    0.833]\n",
      "arrow recall:     [0.529 0.68  0.48  0.474 0.444 1.    0.5  ]\n",
      "adj MCC:\t[0.384 0.527 0.343 0.277 0.372 1.    0.436]\n"
     ]
    }
   ],
   "source": [
    "prec, rec, mcc = calc_markov_equiv_arrow_pr(pcm, true)\n",
    "print('arrow precision:  ' + str(np.round(prec,3)))\n",
    "print('arrow recall:     ' + str(np.round(rec,3)))\n",
    "print('adj MCC:\\t' + str(np.round(mcc,3)))"
   ]
  },
  {
   "cell_type": "code",
   "execution_count": 62,
   "metadata": {},
   "outputs": [
    {
     "name": "stdout",
     "output_type": "stream",
     "text": [
      "Normalized SHD:  [0.0128 0.0082 0.0172 0.0131 0.01   0.006  0.008 ]\n"
     ]
    }
   ],
   "source": [
    "shd = calc_markov_equiv_shd(pcm, true, [50, 50, 10])\n",
    "print('Normalized SHD:  ' + str(np.round(shd,4)))"
   ]
  },
  {
   "cell_type": "code",
   "execution_count": null,
   "metadata": {},
   "outputs": [],
   "source": []
  },
  {
   "cell_type": "code",
   "execution_count": 63,
   "metadata": {},
   "outputs": [
    {
     "name": "stdout",
     "output_type": "stream",
     "text": [
      "loading edges from ../../simulations_200327/true_out/sout_0.txt\n",
      "loading edges from ../pcm_0_0.5_00500_cens_possPar.txt\n"
     ]
    }
   ],
   "source": [
    "# true = build_graph('../fci-max/rCausalMGM/graph/graph.n1000.p100.txt')\n",
    "# true = load_edges('graph/mec.n1000.p100.txt')\n",
    "# pcm = load_edges('../pc50_test_5.txt')\n",
    "true = load_edges('../../simulations_200327/true_out/sout_0.txt')\n",
    "pcm = load_edges('../pcm_0_0.5_00500_cens_possPar.txt')\n",
    "# mgm = load_edges('mgm_local.txt')\n",
    "# cpc = load_edges('cpc_local.txt')\n",
    "# pcm = load_edges('pcm_local.txt')"
   ]
  },
  {
   "cell_type": "code",
   "execution_count": 64,
   "metadata": {},
   "outputs": [
    {
     "name": "stdout",
     "output_type": "stream",
     "text": [
      "adj precision:\t[0.904 0.962 0.909 0.826 1.    0.5   0.909]\n",
      "adj recall:\t[0.86  0.962 0.806 0.905 1.    0.333 0.833]\n",
      "adj MCC:\t[0.879 0.961 0.855 0.864 1.    0.408 0.87 ]\n"
     ]
    }
   ],
   "source": [
    "prec, rec, mcc = calc_adj_pr(pcm, true, 110)\n",
    "print('adj precision:\\t' + str(np.round(prec,3)))\n",
    "print('adj recall:\\t' + str(np.round(rec,3)))\n",
    "print('adj MCC:\\t' + str(np.round(mcc,3)))"
   ]
  },
  {
   "cell_type": "code",
   "execution_count": 65,
   "metadata": {},
   "outputs": [
    {
     "name": "stdout",
     "output_type": "stream",
     "text": [
      "arrow precision:  [0.629 0.545 0.614 0.765 0.6   1.    0.667]\n",
      "arrow recall:     [0.538 0.48  0.54  0.684 0.333 1.    0.4  ]\n",
      "adj MCC:\t[0.223 0.081 0.201 0.476 0.124 1.    0.218]\n"
     ]
    }
   ],
   "source": [
    "prec, rec, mcc = calc_markov_equiv_arrow_pr(pcm, true)\n",
    "print('arrow precision:  ' + str(np.round(prec,3)))\n",
    "print('arrow recall:     ' + str(np.round(rec,3)))\n",
    "print('adj MCC:\\t' + str(np.round(mcc,3)))"
   ]
  },
  {
   "cell_type": "code",
   "execution_count": 66,
   "metadata": {},
   "outputs": [
    {
     "name": "stdout",
     "output_type": "stream",
     "text": [
      "Normalized SHD:  [0.0127 0.0122 0.016  0.0098 0.012  0.006  0.009 ]\n"
     ]
    }
   ],
   "source": [
    "shd = calc_markov_equiv_shd(pcm, true, [50,50,10])\n",
    "print('Normalized SHD:  ' + str(np.round(shd,4)))"
   ]
  },
  {
   "cell_type": "code",
   "execution_count": null,
   "metadata": {},
   "outputs": [],
   "source": []
  }
 ],
 "metadata": {
  "kernelspec": {
   "display_name": "Python 3",
   "language": "python",
   "name": "python3"
  },
  "language_info": {
   "codemirror_mode": {
    "name": "ipython",
    "version": 3
   },
   "file_extension": ".py",
   "mimetype": "text/x-python",
   "name": "python",
   "nbconvert_exporter": "python",
   "pygments_lexer": "ipython3",
   "version": "3.7.1"
  }
 },
 "nbformat": 4,
 "nbformat_minor": 2
}
